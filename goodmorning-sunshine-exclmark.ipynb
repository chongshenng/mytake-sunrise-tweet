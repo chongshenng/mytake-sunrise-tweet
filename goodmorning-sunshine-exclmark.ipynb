{
 "cells": [
  {
   "cell_type": "code",
   "execution_count": 23,
   "metadata": {},
   "outputs": [],
   "source": [
    "import numpy as np\n",
    "import pandas as pd"
   ]
  },
  {
   "cell_type": "code",
   "execution_count": 24,
   "metadata": {},
   "outputs": [],
   "source": [
    "#-- Now load the packages for plotting the basemap\n",
    "import matplotlib.pyplot as plt\n",
    "from mpl_toolkits.basemap import Basemap\n",
    "from itertools import chain\n",
    "\n",
    "def draw_map(m, scale=0.2):\n",
    "    #-- draw a shaded-relief image\n",
    "    m.shadedrelief(scale=scale)\n",
    "    \n",
    "    #-- lats and longs are returned as a dictionary\n",
    "    lats = m.drawparallels(np.linspace(-90, 90, 13))\n",
    "    lons = m.drawmeridians(np.linspace(-180, 180, 13))\n",
    "\n",
    "    #-- keys contain the plt.Line2D instances\n",
    "    lat_lines = chain(*(tup[1][0] for tup in lats.items()))\n",
    "    lon_lines = chain(*(tup[1][0] for tup in lons.items()))\n",
    "    all_lines = chain(lat_lines, lon_lines)\n",
    "    \n",
    "    #-- cycle through these lines and set the desired style\n",
    "    for line in all_lines:\n",
    "        line.set(linestyle='-', alpha=0.3, color='w')"
   ]
  },
  {
   "cell_type": "code",
   "execution_count": 25,
   "metadata": {},
   "outputs": [],
   "source": [
    "#-- Run this cell to determine the encoding format of the source.\n",
    "if False:\n",
    "    import chardet\n",
    "    rawdata = open(\"source/tweets_all.csv\", \"rb\").read()\n",
    "    result = chardet.detect(rawdata)\n",
    "    charenc = result['encoding']\n",
    "    print(charenc)"
   ]
  },
  {
   "cell_type": "code",
   "execution_count": 26,
   "metadata": {},
   "outputs": [],
   "source": [
    "df = pd.read_csv(\"source/tweets_all.csv\",encoding=\"Windows-1252\") "
   ]
  },
  {
   "cell_type": "code",
   "execution_count": 27,
   "metadata": {},
   "outputs": [],
   "source": [
    "#-- Let's check the column headers\n",
    "# type(df)\n",
    "# df.head(2)\n",
    "# [col for col in df.columns]"
   ]
  },
  {
   "cell_type": "code",
   "execution_count": 33,
   "metadata": {},
   "outputs": [
    {
     "data": {
      "text/plain": [
       "0    09:49:46\n",
       "1    09:49:49\n",
       "2    09:49:49\n",
       "Name: time, dtype: object"
      ]
     },
     "execution_count": 33,
     "metadata": {},
     "output_type": "execute_result"
    }
   ],
   "source": [
    "#-- Now get the timestamps\n",
    "# df['time']=df['created_at'].str.contains('..:..:..', regex=True) # Checks if regex matches\n",
    "df['time']=df['created_at'].str.extract('(..:..:..)', expand=True)\n",
    "df['time'].head(3) # Check the top 3 headers"
   ]
  },
  {
   "cell_type": "code",
   "execution_count": 37,
   "metadata": {},
   "outputs": [
    {
     "data": {
      "text/html": [
       "<div>\n",
       "<style scoped>\n",
       "    .dataframe tbody tr th:only-of-type {\n",
       "        vertical-align: middle;\n",
       "    }\n",
       "\n",
       "    .dataframe tbody tr th {\n",
       "        vertical-align: top;\n",
       "    }\n",
       "\n",
       "    .dataframe thead th {\n",
       "        text-align: right;\n",
       "    }\n",
       "</style>\n",
       "<table border=\"1\" class=\"dataframe\">\n",
       "  <thead>\n",
       "    <tr style=\"text-align: right;\">\n",
       "      <th></th>\n",
       "      <th>time</th>\n",
       "      <th>place_lat</th>\n",
       "      <th>place_lon</th>\n",
       "    </tr>\n",
       "  </thead>\n",
       "  <tbody>\n",
       "    <tr>\n",
       "      <th>0</th>\n",
       "      <td>09:49:46</td>\n",
       "      <td>40.227928</td>\n",
       "      <td>-74.703982</td>\n",
       "    </tr>\n",
       "    <tr>\n",
       "      <th>1</th>\n",
       "      <td>09:49:49</td>\n",
       "      <td>49.145331</td>\n",
       "      <td>-81.073921</td>\n",
       "    </tr>\n",
       "    <tr>\n",
       "      <th>2</th>\n",
       "      <td>09:49:49</td>\n",
       "      <td>39.870397</td>\n",
       "      <td>-85.996819</td>\n",
       "    </tr>\n",
       "    <tr>\n",
       "      <th>3</th>\n",
       "      <td>09:49:51</td>\n",
       "      <td>48.660176</td>\n",
       "      <td>2.576654</td>\n",
       "    </tr>\n",
       "    <tr>\n",
       "      <th>4</th>\n",
       "      <td>09:50:00</td>\n",
       "      <td>8.942483</td>\n",
       "      <td>7.253046</td>\n",
       "    </tr>\n",
       "  </tbody>\n",
       "</table>\n",
       "</div>"
      ],
      "text/plain": [
       "       time  place_lat  place_lon\n",
       "0  09:49:46  40.227928 -74.703982\n",
       "1  09:49:49  49.145331 -81.073921\n",
       "2  09:49:49  39.870397 -85.996819\n",
       "3  09:49:51  48.660176   2.576654\n",
       "4  09:50:00   8.942483   7.253046"
      ]
     },
     "execution_count": 37,
     "metadata": {},
     "output_type": "execute_result"
    }
   ],
   "source": [
    "#-- Build a clean dataframe with only the columnns that you need\n",
    "df_subset = df[['time','place_lat','place_lon']]\n",
    "df_subset.head(5)"
   ]
  },
  {
   "cell_type": "code",
   "execution_count": 66,
   "metadata": {},
   "outputs": [
    {
     "data": {
      "text/html": [
       "<div>\n",
       "<style scoped>\n",
       "    .dataframe tbody tr th:only-of-type {\n",
       "        vertical-align: middle;\n",
       "    }\n",
       "\n",
       "    .dataframe tbody tr th {\n",
       "        vertical-align: top;\n",
       "    }\n",
       "\n",
       "    .dataframe thead th {\n",
       "        text-align: right;\n",
       "    }\n",
       "</style>\n",
       "<table border=\"1\" class=\"dataframe\">\n",
       "  <thead>\n",
       "    <tr style=\"text-align: right;\">\n",
       "      <th></th>\n",
       "      <th>time</th>\n",
       "      <th>place_lat</th>\n",
       "      <th>place_lon</th>\n",
       "    </tr>\n",
       "  </thead>\n",
       "  <tbody>\n",
       "    <tr>\n",
       "      <th>2661</th>\n",
       "      <td>00:00:34</td>\n",
       "      <td>11.022624</td>\n",
       "      <td>76.879092</td>\n",
       "    </tr>\n",
       "    <tr>\n",
       "      <th>2662</th>\n",
       "      <td>00:00:52</td>\n",
       "      <td>51.489263</td>\n",
       "      <td>-0.088161</td>\n",
       "    </tr>\n",
       "    <tr>\n",
       "      <th>2663</th>\n",
       "      <td>00:02:32</td>\n",
       "      <td>13.845264</td>\n",
       "      <td>100.581740</td>\n",
       "    </tr>\n",
       "    <tr>\n",
       "      <th>2664</th>\n",
       "      <td>00:02:36</td>\n",
       "      <td>3.138874</td>\n",
       "      <td>101.686968</td>\n",
       "    </tr>\n",
       "    <tr>\n",
       "      <th>2665</th>\n",
       "      <td>00:02:39</td>\n",
       "      <td>14.654146</td>\n",
       "      <td>121.259866</td>\n",
       "    </tr>\n",
       "  </tbody>\n",
       "</table>\n",
       "</div>"
      ],
      "text/plain": [
       "          time  place_lat   place_lon\n",
       "2661  00:00:34  11.022624   76.879092\n",
       "2662  00:00:52  51.489263   -0.088161\n",
       "2663  00:02:32  13.845264  100.581740\n",
       "2664  00:02:36   3.138874  101.686968\n",
       "2665  00:02:39  14.654146  121.259866"
      ]
     },
     "execution_count": 66,
     "metadata": {},
     "output_type": "execute_result"
    }
   ],
   "source": [
    "#-- Now sort the tweets by time\n",
    "df_subset = df_subset.sort_values(by='time')\n",
    "df_subset.head(5)"
   ]
  },
  {
   "cell_type": "code",
   "execution_count": 107,
   "metadata": {},
   "outputs": [
    {
     "name": "stdout",
     "output_type": "stream",
     "text": [
      "01:00:00\n"
     ]
    }
   ],
   "source": [
    "#-- Now lets group the data into time 'bins'. \n",
    "#-- First create a datetime rante\n",
    "df_time = pd.date_range(\"00:00\", \"23:59\", freq=\"30min\").time\n",
    "print(df_time[2])"
   ]
  },
  {
   "cell_type": "code",
   "execution_count": 133,
   "metadata": {},
   "outputs": [
    {
     "name": "stdout",
     "output_type": "stream",
     "text": [
      "yay!\n",
      "Pandas(Index=2661, time='00:00:34', place_lat=11.022624, place_lon=76.879092)\n",
      "yay!\n",
      "Pandas(Index=2662, time='00:00:52', place_lat=51.489263, place_lon=-0.088161)\n",
      "yay!\n",
      "Pandas(Index=2663, time='00:02:32', place_lat=13.845264000000002, place_lon=100.58174)\n"
     ]
    }
   ],
   "source": [
    "#-- Now loop through df_subset and update a list based on the datetime bins\n",
    "from itertools import islice\n",
    "from datetime import datetime\n",
    "\n",
    "time_bins = []\n",
    "i=0\n",
    "for irow in islice(df_subset.itertuples(), 3):\n",
    "#     print(irow[1]) #-- Checks timestamp\n",
    "#     print(type(datetime.strptime(irow[1], '%H:%M:%S').time())) #-- Convert to datetime.time format\n",
    "#     print(type(df_time[2])) #-- Check to df_time entry\n",
    "#     if datetime.strptime(irow[1], '%H:%M:%S').time() < df_time[2]:\n",
    "#         print('yay!')\n",
    "    for idx,time in enumerate(df_time[0:5]):\n",
    "#         print(df_time[idx])\n",
    "        chktime = datetime.strptime(irow[1], '%H:%M:%S').time()\n",
    "        timelim1 = df_time[idx]\n",
    "        timelim2 = df_time[idx+1]\n",
    "        if timelim1 <= chktime < timelim2:\n",
    "            print('yay!')\n",
    "            break\n",
    "        else:\n",
    "            print('no')\n",
    "    time_bins.append()\n",
    "#         print(type(time))\n",
    "\n",
    "#     print(df_subset)\n",
    "# for i,idx in df_subset.iterrows():\n",
    "#     print(df_subset['time'])\n"
   ]
  },
  {
   "cell_type": "code",
   "execution_count": null,
   "metadata": {},
   "outputs": [],
   "source": []
  },
  {
   "cell_type": "code",
   "execution_count": null,
   "metadata": {},
   "outputs": [],
   "source": [
    "# Now test the visualisation for one\n",
    "fig1 = plt.figure(facecolor='w')\n",
    "ax1  = fig1.add_subplot(111)\n",
    "# fig = plt.figure(figsize=(8, 6), edgecolor='w')\n",
    "map = Basemap(projection='cyl', resolution=None,\n",
    "            llcrnrlat=-90, urcrnrlat=90,\n",
    "            llcrnrlon=-180, urcrnrlon=180, )\n",
    "draw_map(map)\n",
    "\n",
    "lon = -135.3318\n",
    "lat = 57.0799\n",
    "x,y = map(lon, lat)\n",
    "map.plot(x, y, 'bo', markersize=24)\n",
    " \n",
    "plt.show()"
   ]
  },
  {
   "cell_type": "markdown",
   "metadata": {},
   "source": [
    "> Now test an animated style of plotting."
   ]
  },
  {
   "cell_type": "code",
   "execution_count": null,
   "metadata": {},
   "outputs": [],
   "source": [
    "from matplotlib import animation, rc\n",
    "from IPython.display import HTML"
   ]
  },
  {
   "cell_type": "code",
   "execution_count": null,
   "metadata": {},
   "outputs": [],
   "source": [
    "fig, ax = plt.subplots()\n",
    "ax.set_xlim([0,2])\n",
    "ax.set_ylim([-2,2])\n",
    "\n",
    "line, = ax.plot([],[],lw=2)"
   ]
  },
  {
   "cell_type": "code",
   "execution_count": null,
   "metadata": {},
   "outputs": [],
   "source": [
    "def init():\n",
    "    line.set_data([],[])\n",
    "    return (line,)"
   ]
  },
  {
   "cell_type": "code",
   "execution_count": null,
   "metadata": {},
   "outputs": [],
   "source": [
    "def animate(i):\n",
    "    x = np.linspace(0,2,1000)\n",
    "    y = np.sin(2*np.pi*(x-0.01*i))\n",
    "    line.set_data(x,y)\n",
    "    return(line,)"
   ]
  },
  {
   "cell_type": "code",
   "execution_count": null,
   "metadata": {},
   "outputs": [],
   "source": [
    "anim = animation.FuncAnimation(fig, animate, init_func=init,\n",
    "                              frames=100, interval=20,\n",
    "                              blit=True)"
   ]
  },
  {
   "cell_type": "code",
   "execution_count": null,
   "metadata": {},
   "outputs": [],
   "source": [
    "HTML(anim.to_html5_video())"
   ]
  },
  {
   "cell_type": "code",
   "execution_count": null,
   "metadata": {},
   "outputs": [],
   "source": [
    "HTML(anim.to_jshtml())"
   ]
  },
  {
   "cell_type": "code",
   "execution_count": null,
   "metadata": {},
   "outputs": [],
   "source": []
  }
 ],
 "metadata": {
  "kernelspec": {
   "display_name": "Python 3",
   "language": "python",
   "name": "python3"
  },
  "language_info": {
   "codemirror_mode": {
    "name": "ipython",
    "version": 3
   },
   "file_extension": ".py",
   "mimetype": "text/x-python",
   "name": "python",
   "nbconvert_exporter": "python",
   "pygments_lexer": "ipython3",
   "version": "3.6.8"
  }
 },
 "nbformat": 4,
 "nbformat_minor": 2
}
